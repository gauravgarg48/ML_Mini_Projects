{
 "cells": [
  {
   "cell_type": "markdown",
   "metadata": {},
   "source": [
    "## Air Pollution is Rising!\n",
    "## Predicting Pollution Levels using Machine Learning"
   ]
  },
  {
   "cell_type": "code",
   "execution_count": 1,
   "metadata": {},
   "outputs": [],
   "source": [
    "import numpy as np\n",
    "import pandas as pd\n",
    "import matplotlib.pyplot as plt"
   ]
  },
  {
   "cell_type": "code",
   "execution_count": 2,
   "metadata": {},
   "outputs": [
    {
     "name": "stdout",
     "output_type": "stream",
     "text": [
      "(1600, 5) (1600, 1) (400, 5)\n"
     ]
    }
   ],
   "source": [
    "# Load dataset\n",
    "\n",
    "train = pd.read_csv('train.csv').values\n",
    "X = train[:, :-1]\n",
    "Y = train[:, -1:]\n",
    "xt = pd.read_csv('test.csv').values\n",
    "\n",
    "print(X.shape, Y.shape, xt.shape)\n",
    "\n",
    "# Normalise dataset\n",
    "\n",
    "u = X.mean(axis = 0)\n",
    "s = X.std(axis = 0)\n",
    "X = (X-u)/s\n",
    "xt = (xt-u)/s"
   ]
  },
  {
   "cell_type": "code",
   "execution_count": 3,
   "metadata": {
    "scrolled": true
   },
   "outputs": [],
   "source": [
    "# Add column of 1's for bias\n",
    "\n",
    "X = np.hstack((np.ones((X.shape[0], 1)), X))\n",
    "xt = np.hstack((np.ones((xt.shape[0], 1)), xt))"
   ]
  },
  {
   "cell_type": "code",
   "execution_count": 4,
   "metadata": {},
   "outputs": [],
   "source": [
    "# Algorithm\n",
    "\n",
    "def hypothesis(X, theta):\n",
    "    return np.dot(X, theta)\n",
    "\n",
    "def gradient(X, Y, theta):\n",
    "    H = hypothesis(X, theta)\n",
    "    grad = np.dot(X.T, (H - Y))\n",
    "    return grad/X.shape[0]\n",
    "\n",
    "def loss(X, Y, theta):\n",
    "    H = hypothesis(X, theta)\n",
    "    error = (H - Y)**2\n",
    "    return error.mean()\n",
    "\n",
    "def gradientDescent(X, Y, max_itr = 100):\n",
    "    lr = 0.1\n",
    "    error_list = []\n",
    "    theta = np.zeros((X.shape[1], 1))\n",
    "    for i in range(max_itr):\n",
    "        grad = gradient(X, Y, theta)\n",
    "        theta = theta - lr*grad\n",
    "        error_list.append(loss(X, Y, theta))\n",
    "        \n",
    "    return theta, error_list"
   ]
  },
  {
   "cell_type": "code",
   "execution_count": 5,
   "metadata": {},
   "outputs": [
    {
     "name": "stdout",
     "output_type": "stream",
     "text": [
      "[[ 0.31882692]\n",
      " [29.59234868]\n",
      " [94.64766952]\n",
      " [ 8.37318663]\n",
      " [45.52116937]\n",
      " [ 2.46359567]]\n"
     ]
    },
    {
     "data": {
      "image/png": "[encoded data removed]",
      "text/plain": [
       "<Figure size 432x288 with 1 Axes>"
      ]
     },
     "metadata": {
      "needs_background": "light"
     },
     "output_type": "display_data"
    }
   ],
   "source": [
    "# Training dataset\n",
    "\n",
    "theta, error_list = gradientDescent(X, Y)\n",
    "\n",
    "print(theta)\n",
    "\n",
    "plt.plot(error_list)\n",
    "plt.show()"
   ]
  },
  {
   "cell_type": "code",
   "execution_count": 6,
   "metadata": {},
   "outputs": [
    {
     "name": "stdout",
     "output_type": "stream",
     "text": [
      "score 96.60939654502222\n"
     ]
    }
   ],
   "source": [
    "# Make Predictons\n",
    "y_pred = hypothesis(X, theta)\n",
    "\n",
    "# Computing R2 score\n",
    "def r2_score(y, y_):\n",
    "    num = np.sum((y-y_)**2)\n",
    "    denom = np.sum((y-y.mean())**2)\n",
    "    score = (1- num/denom)\n",
    "    return score*100\n",
    "\n",
    "print('score', r2_score(Y, y_pred))"
   ]
  },
  {
   "cell_type": "code",
   "execution_count": 7,
   "metadata": {},
   "outputs": [],
   "source": [
    "# Predictions on testing data\n",
    "\n",
    "yt = hypothesis(xt, theta)\n",
    "df = pd.DataFrame(yt, columns = ['target'])\n",
    "df.to_csv('pred.csv', index_label='Id')"
   ]
  },
  {
   "cell_type": "code",
   "execution_count": null,
   "metadata": {},
   "outputs": [],
   "source": []
  },
  {
   "cell_type": "code",
   "execution_count": null,
   "metadata": {},
   "outputs": [],
   "source": []
  }
 ],
 "metadata": {
  "kernelspec": {
   "display_name": "Python 3",
   "language": "python",
   "name": "python3"
  },
  "language_info": {
   "codemirror_mode": {
    "name": "ipython",
    "version": 3
   },
   "file_extension": ".py",
   "mimetype": "text/x-python",
   "name": "python",
   "nbconvert_exporter": "python",
   "pygments_lexer": "ipython3",
   "version": "3.7.6"
  }
 },
 "nbformat": 4,
 "nbformat_minor": 4
}
