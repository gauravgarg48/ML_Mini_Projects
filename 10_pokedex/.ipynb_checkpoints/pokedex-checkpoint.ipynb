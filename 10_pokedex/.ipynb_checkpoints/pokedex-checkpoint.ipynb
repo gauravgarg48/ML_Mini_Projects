{
 "cells": [
  {
   "cell_type": "markdown",
   "metadata": {},
   "source": [
    "## PokeDex\n",
    "## Pokemon Detector Device which classifies the pokemon images"
   ]
  },
  {
   "cell_type": "code",
   "execution_count": 1,
   "metadata": {},
   "outputs": [
    {
     "name": "stderr",
     "output_type": "stream",
     "text": [
      "Using TensorFlow backend.\n"
     ]
    }
   ],
   "source": [
    "import numpy as np\n",
    "import pandas as pd\n",
    "from matplotlib import pyplot as plt\n",
    "import os\n",
    "\n",
    "from sklearn import svm\n",
    "from keras.preprocessing import image"
   ]
  },
  {
   "cell_type": "code",
   "execution_count": 2,
   "metadata": {},
   "outputs": [
    {
     "name": "stdout",
     "output_type": "stream",
     "text": [
      "(304, 2) (123, 1)\n",
      "   ImageId NameOfPokemon\n",
      "0  296.jpg       Pikachu\n",
      "1  297.jpg       Pikachu\n",
      "2  298.jpg       Pikachu\n",
      "3  299.jpg       Pikachu\n",
      "4  300.jpg       Pikachu\n",
      "3 ['Pikachu' 'Bulbasaur' 'Charmander']\n"
     ]
    }
   ],
   "source": [
    "# Train images folder contains all images of all classes\n",
    "train_path = './train_images/'\n",
    "test_path = './test_images/'\n",
    "\n",
    "# Train file contains all image names and its class\n",
    "train_file = pd.read_csv('train.csv')\n",
    "test_file = pd.read_csv('test.csv')\n",
    "LABELS = pd.unique(train_file['NameOfPokemon'])\n",
    "CLASSES = LABELS.shape[0]\n",
    "\n",
    "print(train_file.shape, test_file.shape)\n",
    "print(train_file.head())\n",
    "print(CLASSES, LABELS)"
   ]
  },
  {
   "cell_type": "code",
   "execution_count": 3,
   "metadata": {},
   "outputs": [],
   "source": [
    "# Dataset preparation\n",
    "\n",
    "class_to_label = {'Bulbasaur': 0, 'Charmander': 1, 'Pikachu': 2}\n",
    "label_to_class = {0: 'Bulbasaur', 1: 'Charmander', 2: 'Pikachu'}\n",
    "\n",
    "def prepareData(data, imgs_path):\n",
    "    m, n = data.shape\n",
    "    img_data = []\n",
    "    labels = []\n",
    "    \n",
    "    for i in range(m):\n",
    "        path = imgs_path + data[i, 0]\n",
    "        img = image.load_img(path, target_size=(32, 32))\n",
    "        img_arr = image.img_to_array(img)\n",
    "        img_data.append(img_arr.reshape((-1, )))\n",
    "        if n == 2:\n",
    "            labels.append(class_to_label[data[i, 1]])\n",
    "    \n",
    "    img_data = np.array(img_data, dtype='float32') / 255.0\n",
    "    labels = np.array(labels)\n",
    "    return img_data, labels"
   ]
  },
  {
   "cell_type": "code",
   "execution_count": 4,
   "metadata": {},
   "outputs": [
    {
     "name": "stderr",
     "output_type": "stream",
     "text": [
      "c:\\users\\goura\\appdata\\local\\programs\\python\\python37\\lib\\site-packages\\PIL\\Image.py:932: UserWarning: Palette images with Transparency expressed in bytes should be converted to RGBA images\n",
      "  \"Palette images with Transparency expressed in bytes should be \"\n"
     ]
    },
    {
     "name": "stdout",
     "output_type": "stream",
     "text": [
      "(304, 3072) (304,)\n",
      "(123, 3072)\n"
     ]
    }
   ],
   "source": [
    "X_train, y_train = prepareData(train_file.values, train_path)\n",
    "X_test, _ = prepareData(test_file.values, test_path)\n",
    "\n",
    "print(X_train.shape, y_train.shape)\n",
    "print(X_test.shape)"
   ]
  },
  {
   "cell_type": "code",
   "execution_count": 5,
   "metadata": {},
   "outputs": [
    {
     "data": {
      "image/png": "[encoded data removed]",
      "text/plain": [
       "<Figure size 432x288 with 1 Axes>"
      ]
     },
     "metadata": {
      "needs_background": "light"
     },
     "output_type": "display_data"
    },
    {
     "name": "stdout",
     "output_type": "stream",
     "text": [
      "Label- Pikachu\n"
     ]
    }
   ],
   "source": [
    "# Visualise the dataset\n",
    "\n",
    "def drawImg(vec):\n",
    "    img = vec.reshape((32, 32, 3))\n",
    "    plt.imshow(img)\n",
    "    plt.axis('off')\n",
    "    plt.show()\n",
    "    return\n",
    "\n",
    "drawImg(X_train[0])\n",
    "print('Label-', label_to_class[y_train[0]])"
   ]
  },
  {
   "cell_type": "code",
   "execution_count": 6,
   "metadata": {},
   "outputs": [
    {
     "data": {
      "text/plain": [
       "0.9703947368421053"
      ]
     },
     "execution_count": 6,
     "metadata": {},
     "output_type": "execute_result"
    }
   ],
   "source": [
    "# Train svm classifier\n",
    "\n",
    "svm_clf = svm.SVC(kernel='rbf')\n",
    "svm_clf.fit(X_train, y_train)\n",
    "\n",
    "svm_clf.score(X_train, y_train)"
   ]
  },
  {
   "cell_type": "code",
   "execution_count": 7,
   "metadata": {},
   "outputs": [
    {
     "data": {
      "image/png": "[encoded data removed]",
      "text/plain": [
       "<Figure size 432x288 with 1 Axes>"
      ]
     },
     "metadata": {
      "needs_background": "light"
     },
     "output_type": "display_data"
    },
    {
     "name": "stdout",
     "output_type": "stream",
     "text": [
      "pred- Bulbasaur\n"
     ]
    },
    {
     "data": {
      "image/png": "[encoded data removed]",
      "text/plain": [
       "<Figure size 432x288 with 1 Axes>"
      ]
     },
     "metadata": {
      "needs_background": "light"
     },
     "output_type": "display_data"
    },
    {
     "name": "stdout",
     "output_type": "stream",
     "text": [
      "pred- Charmander\n"
     ]
    },
    {
     "data": {
      "image/png": "[encoded data removed]",
      "text/plain": [
       "<Figure size 432x288 with 1 Axes>"
      ]
     },
     "metadata": {
      "needs_background": "light"
     },
     "output_type": "display_data"
    },
    {
     "name": "stdout",
     "output_type": "stream",
     "text": [
      "pred- Bulbasaur\n"
     ]
    },
    {
     "data": {
      "image/png": "[encoded data removed]",
      "text/plain": [
       "<Figure size 432x288 with 1 Axes>"
      ]
     },
     "metadata": {
      "needs_background": "light"
     },
     "output_type": "display_data"
    },
    {
     "name": "stdout",
     "output_type": "stream",
     "text": [
      "pred- Charmander\n"
     ]
    },
    {
     "data": {
      "image/png": "[encoded data removed]",
      "text/plain": [
       "<Figure size 432x288 with 1 Axes>"
      ]
     },
     "metadata": {
      "needs_background": "light"
     },
     "output_type": "display_data"
    },
    {
     "name": "stdout",
     "output_type": "stream",
     "text": [
      "pred- Charmander\n"
     ]
    },
    {
     "data": {
      "image/png": "[encoded data removed]",
      "text/plain": [
       "<Figure size 432x288 with 1 Axes>"
      ]
     },
     "metadata": {
      "needs_background": "light"
     },
     "output_type": "display_data"
    },
    {
     "name": "stdout",
     "output_type": "stream",
     "text": [
      "pred- Charmander\n"
     ]
    },
    {
     "data": {
      "image/png": "[encoded data removed]",
      "text/plain": [
       "<Figure size 432x288 with 1 Axes>"
      ]
     },
     "metadata": {
      "needs_background": "light"
     },
     "output_type": "display_data"
    },
    {
     "name": "stdout",
     "output_type": "stream",
     "text": [
      "pred- Pikachu\n"
     ]
    },
    {
     "data": {
      "image/png": "[encoded data removed]",
      "text/plain": [
       "<Figure size 432x288 with 1 Axes>"
      ]
     },
     "metadata": {
      "needs_background": "light"
     },
     "output_type": "display_data"
    },
    {
     "name": "stdout",
     "output_type": "stream",
     "text": [
      "pred- Bulbasaur\n"
     ]
    },
    {
     "data": {
      "image/png": "[encoded data removed]",
      "text/plain": [
       "<Figure size 432x288 with 1 Axes>"
      ]
     },
     "metadata": {
      "needs_background": "light"
     },
     "output_type": "display_data"
    },
    {
     "name": "stdout",
     "output_type": "stream",
     "text": [
      "pred- Bulbasaur\n"
     ]
    },
    {
     "data": {
      "image/png": "[encoded data removed]",
      "text/plain": [
       "<Figure size 432x288 with 1 Axes>"
      ]
     },
     "metadata": {
      "needs_background": "light"
     },
     "output_type": "display_data"
    },
    {
     "name": "stdout",
     "output_type": "stream",
     "text": [
      "pred- Charmander\n"
     ]
    }
   ],
   "source": [
    "# Make predictions\n",
    "\n",
    "y_pred = []\n",
    "for i in range(X_test.shape[0]):\n",
    "    p = svm_clf.predict(X_test[i].reshape((1, -1)))\n",
    "    y_pred.append(label_to_class[p[0]])\n",
    "\n",
    "for i in range(10):\n",
    "    drawImg(X_test[i])\n",
    "    print('pred-', y_pred[i])"
   ]
  },
  {
   "cell_type": "code",
   "execution_count": 8,
   "metadata": {},
   "outputs": [],
   "source": [
    "# Store preditions file\n",
    "\n",
    "idxs = test_file['ImageId'].values.reshape((-1, 1))\n",
    "y_pred = np.array(y_pred).reshape((-1, 1))\n",
    "y_pred = np.hstack((idxs, y_pred))\n",
    "\n",
    "df = pd.DataFrame(y_pred, columns=['ImageId', 'NameOfPokemon'])\n",
    "df.to_csv('y_pred.csv', index=False)"
   ]
  },
  {
   "cell_type": "code",
   "execution_count": null,
   "metadata": {},
   "outputs": [],
   "source": []
  },
  {
   "cell_type": "code",
   "execution_count": null,
   "metadata": {},
   "outputs": [],
   "source": []
  }
 ],
 "metadata": {
  "kernelspec": {
   "display_name": "Python 3",
   "language": "python",
   "name": "python3"
  },
  "language_info": {
   "codemirror_mode": {
    "name": "ipython",
    "version": 3
   },
   "file_extension": ".py",
   "mimetype": "text/x-python",
   "name": "python",
   "nbconvert_exporter": "python",
   "pygments_lexer": "ipython3",
   "version": "3.7.6"
  }
 },
 "nbformat": 4,
 "nbformat_minor": 4
}
