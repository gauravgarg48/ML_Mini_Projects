{
 "cells": [
  {
   "cell_type": "markdown",
   "metadata": {},
   "source": [
    "## Collects face data of different persons using openCV haarcascade frontal face file for face recognition"
   ]
  },
  {
   "cell_type": "code",
   "execution_count": 1,
   "metadata": {},
   "outputs": [],
   "source": [
    "import cv2\n",
    "import numpy as np"
   ]
  },
  {
   "cell_type": "code",
   "execution_count": 2,
   "metadata": {},
   "outputs": [],
   "source": [
    "# Face detection haarcascade file\n",
    "fc_path = \"C:\\\\Users\\\\goura\\\\AppData\\\\Local\\\\Programs\\\\Python\\\\Python37\\\\Lib\\\\site-packages\\\\cv2\\\\data\\\\\"\n",
    "face_cascade = cv2.CascadeClassifier(fc_path + 'haarcascade_frontalface_default.xml')"
   ]
  },
  {
   "cell_type": "code",
   "execution_count": 3,
   "metadata": {},
   "outputs": [
    {
     "name": "stdout",
     "output_type": "stream",
     "text": [
      "Enter the name of the person: gourav\n",
      "1 2 3 4 5 6 7 8 9 10 11 12 13 14 15 16 17 18 19 20 21 22 23 24 25 26 27 28 29 30 31 32 33 34 35 36 37 38 39 40 41 42 43 44 45 46 47 48 49 50 "
     ]
    }
   ],
   "source": [
    "# Read a video stream from camera(frame by frame)\n",
    "\n",
    "# Init camera\n",
    "cap = cv2.VideoCapture(0)\n",
    "skip = 0\n",
    "face_data = []\n",
    "file_name = input('Enter the name of the person: ')\n",
    "\n",
    "while True:\n",
    "    ret, frame = cap.read()\n",
    "    if ret == False:\n",
    "        continue\n",
    "    \n",
    "    gray_frame = cv2.cvtColor(frame, cv2.COLOR_BGR2GRAY)\n",
    "    faces = face_cascade.detectMultiScale(gray_frame, 1.3, 5)\n",
    "    \n",
    "    # Pick the largest face acc. to area\n",
    "    faces = sorted(faces, key=lambda f: f[2]*f[3], reverse=True)\n",
    "    \n",
    "    for face in faces:\n",
    "        x, y, w, h = face\n",
    "        cv2.rectangle(frame, (x, y), (x+w, y+h), (0, 255, 0), 2)\n",
    "        \n",
    "        # Extract region of interest\n",
    "        offset = 10\n",
    "        face_sec = frame[y-offset:y+h+offset, x-offset:x+w+offset]\n",
    "        face_sec = cv2.resize(face_sec, (100, 100))\n",
    "        \n",
    "        # Stores every 10th face\n",
    "        skip += 1\n",
    "        if skip%10 == 0:\n",
    "            face_data.append(face_sec)\n",
    "            cv2.imshow('Face Section', face_sec)\n",
    "            print(len(face_data), end=' ')\n",
    "            \n",
    "    cv2.imshow('VideoFrame', frame)\n",
    "    \n",
    "    # Wait for user input- q, then stop the process\n",
    "    key = cv2.waitKey(1) & 0xFF\n",
    "    if key == ord('q') or skip == 500:\n",
    "        break\n",
    "\n",
    "cap.release()\n",
    "cv2.destroyAllWindows()"
   ]
  },
  {
   "cell_type": "code",
   "execution_count": 5,
   "metadata": {},
   "outputs": [
    {
     "name": "stdout",
     "output_type": "stream",
     "text": [
      "(50, 30000)\n",
      "Data successfully saved at  gourav.npy\n"
     ]
    }
   ],
   "source": [
    "# Convert face_data list into numpy array\n",
    "\n",
    "face_data = np.asarray(face_data)\n",
    "face_data = face_data.reshape((face_data.shape[0], -1))\n",
    "print(face_data.shape)\n",
    "\n",
    "# Save this data into file system\n",
    "file_path = file_name + '.npy'\n",
    "np.save(file_path, face_data)\n",
    "print('Data successfully saved at ', file_path)"
   ]
  },
  {
   "cell_type": "code",
   "execution_count": null,
   "metadata": {},
   "outputs": [],
   "source": []
  },
  {
   "cell_type": "code",
   "execution_count": null,
   "metadata": {},
   "outputs": [],
   "source": []
  }
 ],
 "metadata": {
  "kernelspec": {
   "display_name": "Python 3",
   "language": "python",
   "name": "python3"
  },
  "language_info": {
   "codemirror_mode": {
    "name": "ipython",
    "version": 3
   },
   "file_extension": ".py",
   "mimetype": "text/x-python",
   "name": "python",
   "nbconvert_exporter": "python",
   "pygments_lexer": "ipython3",
   "version": "3.7.6"
  }
 },
 "nbformat": 4,
 "nbformat_minor": 4
}
