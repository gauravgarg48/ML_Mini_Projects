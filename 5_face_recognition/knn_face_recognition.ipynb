{
 "cells": [
  {
   "cell_type": "markdown",
   "metadata": {},
   "source": [
    "## Face recogniton using knn"
   ]
  },
  {
   "cell_type": "code",
   "execution_count": 1,
   "metadata": {},
   "outputs": [],
   "source": [
    "import cv2\n",
    "import numpy as np\n",
    "import os"
   ]
  },
  {
   "cell_type": "code",
   "execution_count": 2,
   "metadata": {},
   "outputs": [],
   "source": [
    "# Face detection haarcascade file\n",
    "\n",
    "fc_path = \"C:\\\\Users\\\\goura\\\\AppData\\\\Local\\\\Programs\\\\Python\\\\Python37\\\\Lib\\\\site-packages\\\\cv2\\\\data\\\\\"\n",
    "face_cascade = cv2.CascadeClassifier(fc_path + 'haarcascade_frontalface_default.xml')"
   ]
  },
  {
   "cell_type": "code",
   "execution_count": 6,
   "metadata": {},
   "outputs": [
    {
     "name": "stdout",
     "output_type": "stream",
     "text": [
      "(100, 30000)\n",
      "(100, 1)\n",
      "{0: 'gaurav', 1: 'shivam'}\n"
     ]
    }
   ],
   "source": [
    "# Data preparation\n",
    "\n",
    "images = []\n",
    "labels = []\n",
    "class_id = 0  # label for given file\n",
    "names = {}    # mapping from label to name \n",
    "\n",
    "for fx in os.listdir():\n",
    "    if fx.endswith('.npy'):\n",
    "        \n",
    "        data_item = np.load(fx)\n",
    "        images.append(data_item)\n",
    "        \n",
    "        vec = np.ones((data_item.shape[0], 1))\n",
    "        labels.append(class_id*vec)\n",
    "        names[class_id] = fx[:-4]\n",
    "        \n",
    "        class_id += 1\n",
    "\n",
    "face_dataset = np.concatenate(images, axis=0)\n",
    "face_labels = np.concatenate(labels, axis=0)\n",
    "\n",
    "print(face_dataset.shape)\n",
    "print(face_labels.shape)\n",
    "print(names)"
   ]
  },
  {
   "cell_type": "code",
   "execution_count": 7,
   "metadata": {},
   "outputs": [],
   "source": [
    "# Algorithm\n",
    "\n",
    "# Euclidean distance\n",
    "def dist(x1, x2):\n",
    "    return np.sqrt(np.sum((x1-x2)**2))\n",
    "\n",
    "def knn_predict(X, y, query_x, k = 5):\n",
    "    vals = []\n",
    "    \n",
    "    for i in range(X.shape[0]):\n",
    "        d = dist(X[i], query_x)\n",
    "        vals.append((d, y[i]))\n",
    "    \n",
    "    vals = sorted(vals)\n",
    "    vals = np.array(vals[:k])\n",
    "    \n",
    "    vals = np.unique(vals[:, 1], return_counts=True)\n",
    "    ind = np.argmax(vals[1])\n",
    "    pred = vals[0][ind]\n",
    "    \n",
    "    return int(pred)"
   ]
  },
  {
   "cell_type": "code",
   "execution_count": 9,
   "metadata": {},
   "outputs": [],
   "source": [
    "# Make predictions\n",
    "\n",
    "cam = cv2.VideoCapture(0)\n",
    "\n",
    "while True:\n",
    "    ret , frame = cam.read()\n",
    "    if ret == False:\n",
    "        continue\n",
    "        \n",
    "    faces = face_cascade.detectMultiScale(frame, 1.5, 5)\n",
    "    \n",
    "    if len(faces)>0:\n",
    "    \n",
    "        for face in faces:\n",
    "            x, y, w, h = face\n",
    "            \n",
    "            # Get the face (ROI)\n",
    "            offset = 5\n",
    "            face_section = frame[y-offset: y+h+offset , x- offset : x+w+ offset]\n",
    "            face_section = cv2.resize(face_section, (100,100))\n",
    "            face_section = face_section.reshape((1, -1))\n",
    "            \n",
    "            # Predict name\n",
    "            pred = knn_predict(face_dataset, face_labels, face_section)\n",
    "            name = names[int(pred)]\n",
    "            \n",
    "            # Display name on the screen and rectangle around face\n",
    "            cv2.putText(frame, name, (x, y-10), cv2.FONT_HERSHEY_SIMPLEX, 1, (255,0,0), 2 , cv2.LINE_AA)\n",
    "            frame = cv2.rectangle(frame, (x, y), (x+w,y+h), (255,255,255), 2)\n",
    "            \n",
    "    cv2.imshow(\"Face Detection\", frame)\n",
    "    \n",
    "    # Wait for user input- q, then stop the process\n",
    "    key_pressed = cv2.waitKey(1) & 0xFF\n",
    "    if key_pressed == ord('q'):\n",
    "        break\n",
    "    \n",
    "cam.release()\n",
    "cv2.destroyAllWindows()"
   ]
  },
  {
   "cell_type": "code",
   "execution_count": null,
   "metadata": {},
   "outputs": [],
   "source": []
  },
  {
   "cell_type": "code",
   "execution_count": null,
   "metadata": {},
   "outputs": [],
   "source": []
  }
 ],
 "metadata": {
  "kernelspec": {
   "display_name": "Python 3",
   "language": "python",
   "name": "python3"
  },
  "language_info": {
   "codemirror_mode": {
    "name": "ipython",
    "version": 3
   },
   "file_extension": ".py",
   "mimetype": "text/x-python",
   "name": "python",
   "nbconvert_exporter": "python",
   "pygments_lexer": "ipython3",
   "version": "3.7.6"
  }
 },
 "nbformat": 4,
 "nbformat_minor": 4
}
