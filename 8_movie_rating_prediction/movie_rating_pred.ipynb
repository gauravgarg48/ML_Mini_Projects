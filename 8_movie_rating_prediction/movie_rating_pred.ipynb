{
 "cells": [
  {
   "cell_type": "markdown",
   "metadata": {},
   "source": [
    "# Movie rating Prediction using NLP and Naive Bayes"
   ]
  },
  {
   "cell_type": "code",
   "execution_count": 1,
   "metadata": {},
   "outputs": [],
   "source": [
    "import numpy as np\n",
    "import pandas as pd\n",
    "\n",
    "from nltk.tokenize import RegexpTokenizer\n",
    "from nltk.stem.snowball import PorterStemmer\n",
    "from nltk.corpus import stopwords\n",
    "\n",
    "from sklearn.preprocessing import LabelEncoder\n",
    "from sklearn.feature_extraction.text import TfidfVectorizer\n",
    "from sklearn.naive_bayes import MultinomialNB\n",
    "from sklearn.model_selection import GridSearchCV\n",
    "from sklearn.pipeline import Pipeline"
   ]
  },
  {
   "cell_type": "code",
   "execution_count": 2,
   "metadata": {},
   "outputs": [
    {
     "name": "stdout",
     "output_type": "stream",
     "text": [
      "(40000,) (40000,) (10000,)\n",
      "http://video.google.com/videoplay?docid=211772166650071408&hl=en Distribution was tried.<br /><br />We opted for mass appeal.<br /><br />We want the best possible viewing range so, we forgo profit and continue our manual labor jobs gladly to entertain you for working yours.<br /><br />View Texas tale, please write about it... If you like it or not, if you like Alex or not, if you like Stuie, Texas or Texas tale... Just write about it.<br /><br />Your opinion rules. 1\n"
     ]
    }
   ],
   "source": [
    "# Load training and testing data\n",
    "\n",
    "train = pd.read_csv('./train.csv')\n",
    "X_test = pd.read_csv('./test.csv').values.reshape((-1, ))\n",
    "X_train = train[:]['review']\n",
    "y_train = train[:]['label']\n",
    "\n",
    "print(X_train.shape, y_train.shape, X_test.shape)\n",
    "\n",
    "\n",
    "# Label encoding of target vector\n",
    "\n",
    "le = LabelEncoder()\n",
    "y_train = le.fit_transform(y_train)\n",
    "print(X_train[1], y_train[1])"
   ]
  },
  {
   "cell_type": "code",
   "execution_count": null,
   "metadata": {},
   "outputs": [],
   "source": []
  },
  {
   "cell_type": "code",
   "execution_count": 3,
   "metadata": {},
   "outputs": [],
   "source": [
    "# Custom tokenizer\n",
    "\n",
    "re = RegexpTokenizer('[a-zA-Z]+')\n",
    "ps = PorterStemmer()\n",
    "sw = set(stopwords.words('english'))\n",
    "    \n",
    "def myTokenizer(text):\n",
    "    text = text.replace('<br /><br />', ' ')\n",
    "    words = re.tokenize(text.lower())\n",
    "    useful_words = [ps.stem(w) for w in words if w not in sw]\n",
    "    return useful_words"
   ]
  },
  {
   "cell_type": "code",
   "execution_count": 4,
   "metadata": {},
   "outputs": [
    {
     "name": "stdout",
     "output_type": "stream",
     "text": [
      "['http', 'video', 'googl', 'com', 'videoplay', 'docid', 'hl', 'en', 'distribut', 'tri', 'opt', 'mass', 'appeal', 'want', 'best', 'possibl', 'view', 'rang', 'forgo', 'profit', 'continu', 'manual', 'labor', 'job', 'gladli', 'entertain', 'work', 'view', 'texa', 'tale', 'pleas', 'write', 'like', 'like', 'alex', 'like', 'stuie', 'texa', 'texa', 'tale', 'write', 'opinion', 'rule']\n"
     ]
    }
   ],
   "source": [
    "print(myTokenizer(X_train[1]))"
   ]
  },
  {
   "cell_type": "code",
   "execution_count": 5,
   "metadata": {},
   "outputs": [
    {
     "name": "stdout",
     "output_type": "stream",
     "text": [
      "(40000, 30000)\n"
     ]
    }
   ],
   "source": [
    "# Vectorization and cleaning of reviews\n",
    "\n",
    "tfidf = TfidfVectorizer(tokenizer=myTokenizer, max_features=30000, ngram_range=(1,2))\n",
    "\n",
    "X_train = tfidf.fit_transform(X_train)\n",
    "X_test = tfidf.transform(X_test)\n",
    "\n",
    "print(X_train.shape)"
   ]
  },
  {
   "cell_type": "code",
   "execution_count": null,
   "metadata": {},
   "outputs": [],
   "source": []
  },
  {
   "cell_type": "code",
   "execution_count": 6,
   "metadata": {},
   "outputs": [
    {
     "name": "stdout",
     "output_type": "stream",
     "text": [
      "0.907075\n"
     ]
    }
   ],
   "source": [
    "# Training Multinomal Naive bayes classifier\n",
    "\n",
    "clf = MultinomialNB(alpha=1e-2)\n",
    "clf.fit(X_train, y_train)\n",
    "\n",
    "# Testing and Scoring\n",
    "\n",
    "print(clf.score(X_train, y_train))"
   ]
  },
  {
   "cell_type": "code",
   "execution_count": 8,
   "metadata": {},
   "outputs": [],
   "source": [
    "# Make predictions on test data\n",
    "\n",
    "y_pred = clf.predict(X_test)\n",
    "y_pred = le.inverse_transform(y_pred)\n",
    "\n",
    "df = pd.DataFrame(y_pred, columns=['label'])\n",
    "df.to_csv('./y_pred.csv', index_label=['Id'])"
   ]
  },
  {
   "cell_type": "code",
   "execution_count": null,
   "metadata": {},
   "outputs": [],
   "source": []
  },
  {
   "cell_type": "code",
   "execution_count": null,
   "metadata": {},
   "outputs": [],
   "source": [
    "# Optimizing parameters using GridSearchCV\n",
    "\n",
    "text_clf = Pipeline([('tfidf', TfidfVectorizer()), ('clf', MultinomialNB()) ])\n",
    "parameters = {'tfidf__tokenizer': [myTokenizer], 'tfidf__use_idf': [True, False], 'tfidf__max_features': [20000, 40000],\n",
    "               'tfidf__ngram_range': [(1, 1), (1, 2)], 'clf__alpha': (1e-2, 1e-3)}\n",
    "\n",
    "gs_clf = GridSearchCV(text_clf, parameters, n_jobs=-1)\n",
    "gs_clf = gs_clf.fit(X_train, y_train)"
   ]
  },
  {
   "cell_type": "code",
   "execution_count": null,
   "metadata": {},
   "outputs": [],
   "source": [
    "# Get best score and params\n",
    "\n",
    "print(gs_clf.best_score_)\n",
    "print(gs_clf.best_params_)"
   ]
  },
  {
   "cell_type": "code",
   "execution_count": null,
   "metadata": {},
   "outputs": [],
   "source": []
  },
  {
   "cell_type": "code",
   "execution_count": null,
   "metadata": {},
   "outputs": [],
   "source": []
  }
 ],
 "metadata": {
  "kernelspec": {
   "display_name": "Python 3",
   "language": "python",
   "name": "python3"
  },
  "language_info": {
   "codemirror_mode": {
    "name": "ipython",
    "version": 3
   },
   "file_extension": ".py",
   "mimetype": "text/x-python",
   "name": "python",
   "nbconvert_exporter": "python",
   "pygments_lexer": "ipython3",
   "version": "3.7.6"
  }
 },
 "nbformat": 4,
 "nbformat_minor": 4
}
